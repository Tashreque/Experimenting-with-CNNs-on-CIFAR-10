{
 "cells": [
  {
   "cell_type": "code",
   "execution_count": 2,
   "metadata": {},
   "outputs": [],
   "source": [
    "import numpy as np\n",
    "import pandas as pd\n",
    "import matplotlib.pyplot as plt\n",
    "import torch\n",
    "import torch.nn as nn\n",
    "import torch.nn.functional as F\n",
    "import torch.optim as optim\n",
    "from torch.utils.data import DataLoader, random_split\n",
    "import torchvision.datasets as datasets\n",
    "import torchvision.transforms as transforms\n",
    "from torchvision.utils import make_grid\n",
    "from torchvision import models\n",
    "from torchsummary import summary\n",
    "from sklearn.model_selection import train_test_split"
   ]
  },
  {
   "cell_type": "code",
   "execution_count": 21,
   "metadata": {},
   "outputs": [],
   "source": [
    "batch_size = 32\n",
    "device = torch.device(\"mps\")\n",
    "loss_criterion = nn.CrossEntropyLoss()"
   ]
  },
  {
   "cell_type": "code",
   "execution_count": 22,
   "metadata": {},
   "outputs": [],
   "source": [
    "# Function to train and calculate loss and accuracy for one epoch\n",
    "def train(epoch, train_load, model, optimizer):\n",
    "    training_loss = 0\n",
    "    training_accuracy = 0\n",
    "\n",
    "    # Training mode\n",
    "    model.train()\n",
    "    for (X_train, y_train) in train_load:\n",
    "        # Move features and labels to GPU (Metal - mps)\n",
    "        X_train = X_train.to(device)\n",
    "        y_train = y_train.to(device)\n",
    "\n",
    "        # Forward\n",
    "        training_scores = model(X_train)\n",
    "        loss = loss_criterion(training_scores, y_train)\n",
    "        training_loss += loss.item()\n",
    "        training_accuracy += (training_scores.argmax(1) == y_train).sum().item()\n",
    "\n",
    "        # Clear grads\n",
    "        optimizer.zero_grad()\n",
    "\n",
    "        # Backward\n",
    "        loss.backward()\n",
    "\n",
    "        # Gradient descent\n",
    "        optimizer.step()\n",
    "\n",
    "    # Calculate epoch loss and accuracy\n",
    "    training_loss = training_loss / len(train_load)\n",
    "    training_accuracy = training_accuracy / len(train_load.dataset)\n",
    "    return training_loss, training_accuracy, model\n",
    "\n",
    "def test(epoch, val_load, model):\n",
    "    validation_loss = 0\n",
    "    validation_accuracy = 0\n",
    "\n",
    "    # Eval mode\n",
    "    with torch.no_grad():\n",
    "        model.eval()\n",
    "        for (X_val, y_val) in val_load:\n",
    "            # Move features and labels to GPU (Metal - mps)\n",
    "            X_val = X_val.to(device)\n",
    "            y_val = y_val.to(device)\n",
    "\n",
    "            # Forward\n",
    "            validation_scores = model(X_val)\n",
    "            loss = loss_criterion(validation_scores, y_val)\n",
    "            validation_loss += loss.item()\n",
    "            validation_accuracy += (validation_scores.argmax(1) == y_val).sum().item()\n",
    "\n",
    "    # Calculate epoch loss and accuracy\n",
    "    validation_loss = validation_loss / len(val_load)\n",
    "    validation_accuracy = validation_accuracy / len(val_load.dataset)\n",
    "    return validation_loss, validation_accuracy\n",
    "\n",
    "# Function to perform a full training run\n",
    "def perform_training(model, optimizer, num_of_epochs, train_load, val_load, patience=3, early_stopping=False):\n",
    "    # Train the model\n",
    "    training_losses = []\n",
    "    validation_losses = []\n",
    "    training_accuracies = []\n",
    "    validation_accuracies = []\n",
    "\n",
    "    # Early stopping trackers\n",
    "    trigger_times = 0\n",
    "    current_val_accuracy = 0\n",
    "    best_epoch = 0\n",
    "\n",
    "    for epoch in range(num_of_epochs):\n",
    "        # Train model and keep track of losses\n",
    "        training_loss, training_accuracy, model = train(\n",
    "            epoch, train_load, model, optimizer)\n",
    "        validation_loss, validation_accuracy = test(epoch, val_load, model)\n",
    "\n",
    "        # Track early stopping condition\n",
    "        if validation_accuracy < current_val_accuracy:\n",
    "            trigger_times += 1\n",
    "        else:\n",
    "            current_val_accuracy = validation_accuracy\n",
    "            best_epoch = epoch\n",
    "            trigger_times = 0\n",
    "\n",
    "        if (trigger_times == patience) and early_stopping:\n",
    "            print(\"Early stopped!\")\n",
    "            break\n",
    "\n",
    "        training_losses.append(training_loss)\n",
    "        validation_losses.append(validation_loss)\n",
    "        training_accuracies.append(training_accuracy)\n",
    "        validation_accuracies.append(validation_accuracy)\n",
    "\n",
    "        print(\"Epoch\", epoch + 1)\n",
    "        display_results(training_loss, validation_loss,\n",
    "                        training_accuracy, validation_accuracy)\n",
    "\n",
    "    if (trigger_times == patience) and early_stopping:\n",
    "        training_losses = training_losses[0:best_epoch + 1].copy()\n",
    "        validation_losses = validation_losses[0:best_epoch + 1].copy()\n",
    "        training_accuracies = training_accuracies[0:best_epoch + 1].copy()\n",
    "        validation_accuracies = validation_accuracies[0:best_epoch + 1].copy()\n",
    "    return (model, training_losses, validation_losses, training_accuracies, validation_accuracies)\n",
    "\n",
    "# Function to display losses and accuracies (both training and validation)\n",
    "def display_results(training_loss, validation_loss, training_accuracy, validation_accuracy):\n",
    "    print(\"--------------------------------------\")\n",
    "    print(\"Train loss =\", round(training_loss, 4))\n",
    "    print(\"Validation loss =\", round(validation_loss, 4))\n",
    "    print(\"Training Acc =\", round(training_accuracy, 4))\n",
    "    print(\"Validation Acc =\", round(validation_accuracy, 4))\n",
    "    print(\"--------------------------------------\")\n",
    "\n",
    "# Function to show plots of losses and accuracies (both training and validation)\n",
    "def show_plot(training_losses, validation_losses, training_accuracies, validation_accuracies):\n",
    "    x_training = np.arange(1, len(training_losses) + 1)\n",
    "    x_validation = np.arange(1, len(validation_losses) + 1)\n",
    "    plt.plot(x_training, training_losses, marker='.', label=\"Training loss\")\n",
    "    plt.plot(x_training, validation_losses,\n",
    "             marker='.', label=\"Validation loss\")\n",
    "    plt.plot(x_validation, training_accuracies,\n",
    "             marker='.', label=\"Training accuracy\")\n",
    "    plt.plot(x_validation, validation_accuracies,\n",
    "             marker='.', label=\"Validation accuracy\")\n",
    "    plt.legend()\n",
    "    plt.xlabel(\"Epoch\")\n",
    "    plt.ylabel(\"Loss and Accuracy\")\n",
    "    plt.xticks(x_training)\n",
    "    plt.show()\n",
    "\n",
    "# Function to show images\n",
    "def imshow(img):\n",
    "    img = img / 2 + 0.5     # unnormalize\n",
    "    npimg = img.numpy()\n",
    "    plt.imshow(np.transpose(npimg, (1, 2, 0)))\n",
    "    plt.show()\n"
   ]
  },
  {
   "cell_type": "code",
   "execution_count": 23,
   "metadata": {},
   "outputs": [],
   "source": [
    "from torchvision.models import vgg19, resnet18, VGG19_Weights, ResNet18_Weights\n",
    "\n",
    "# Define weights and transforms\n",
    "vgg_weights = VGG19_Weights.DEFAULT\n",
    "vgg_transforms = vgg_weights.transforms()\n",
    "resnet_weights = ResNet18_Weights.DEFAULT\n",
    "resnet_transforms = resnet_weights.transforms()"
   ]
  },
  {
   "cell_type": "code",
   "execution_count": 33,
   "metadata": {},
   "outputs": [
    {
     "name": "stdout",
     "output_type": "stream",
     "text": [
      "Files already downloaded and verified\n",
      "Files already downloaded and verified\n"
     ]
    }
   ],
   "source": [
    "# Full training set\n",
    "full_train_data_vgg = datasets.CIFAR10(\n",
    "    root=\"dataset/\", train=True, transform=vgg_transforms, download=True)\n",
    "full_train_load_vgg = DataLoader(\n",
    "    dataset=full_train_data_vgg, batch_size=batch_size, shuffle=True)\n",
    "\n",
    "# Generating reduced training and validation sets\n",
    "train_data_count = int(len(full_train_data_vgg) * 0.8)\n",
    "val_data_count = len(full_train_data_vgg) - train_data_count\n",
    "train_data_vgg, val_data_vgg = random_split(full_train_data_vgg,\n",
    "                                    [train_data_count, val_data_count],\n",
    "                                    generator=torch.Generator().manual_seed(42))\n",
    "train_load_vgg = DataLoader(\n",
    "    dataset=train_data_vgg, batch_size=batch_size, shuffle=True)\n",
    "val_load_vgg = DataLoader(\n",
    "    dataset=val_data_vgg, batch_size=batch_size, shuffle=True)\n",
    "\n",
    "# Test set\n",
    "test_data_vgg = datasets.CIFAR10(\n",
    "    root=\"dataset/\", train=False, transform=vgg_transforms, download=True)\n",
    "test_load_vgg = DataLoader(\n",
    "    dataset=test_data_vgg, batch_size=batch_size, shuffle=True)\n"
   ]
  },
  {
   "cell_type": "code",
   "execution_count": 36,
   "metadata": {},
   "outputs": [
    {
     "name": "stdout",
     "output_type": "stream",
     "text": [
      "Files already downloaded and verified\n",
      "Files already downloaded and verified\n"
     ]
    }
   ],
   "source": [
    "# Full training set\n",
    "full_train_data_resnet = datasets.CIFAR10(\n",
    "    root=\"dataset/\", train=True, transform=resnet_transforms, download=True)\n",
    "full_train_load_resnet = DataLoader(\n",
    "    dataset=full_train_data_resnet, batch_size=batch_size, shuffle=True)\n",
    "\n",
    "# Generating reduced training and validation sets\n",
    "train_data_count = int(len(full_train_data_resnet) * 0.8)\n",
    "val_data_count = len(full_train_data_resnet) - train_data_count\n",
    "train_data_resnet, val_data_resnet = random_split(full_train_data_resnet,\n",
    "                                            [train_data_count, val_data_count],\n",
    "                                            generator=torch.Generator().manual_seed(42))\n",
    "train_load_resnet = DataLoader(\n",
    "    dataset=train_data_resnet, batch_size=batch_size, shuffle=True)\n",
    "val_load_resnet = DataLoader(\n",
    "    dataset=val_data_resnet, batch_size=batch_size, shuffle=True)\n",
    "\n",
    "# Test set\n",
    "test_data_resnet = datasets.CIFAR10(\n",
    "    root=\"dataset/\", train=False, transform=resnet_transforms, download=True)\n",
    "test_load_resnet = DataLoader(\n",
    "    dataset=test_data_resnet, batch_size=batch_size, shuffle=True)\n"
   ]
  },
  {
   "cell_type": "code",
   "execution_count": 44,
   "metadata": {},
   "outputs": [
    {
     "name": "stderr",
     "output_type": "stream",
     "text": [
      "/Users/tashrequehaq/miniforge3/lib/python3.10/site-packages/torchvision/models/_utils.py:223: UserWarning: Arguments other than a weight enum or `None` for 'weights' are deprecated since 0.13 and will be removed in 0.15. The current behavior is equivalent to passing `weights=ResNet18_Weights.IMAGENET1K_V1`. You can also use `weights=ResNet18_Weights.DEFAULT` to get the most up-to-date weights.\n",
      "  warnings.warn(msg)\n"
     ]
    },
    {
     "name": "stdout",
     "output_type": "stream",
     "text": [
      "VGG(\n",
      "  (features): Sequential(\n",
      "    (0): Conv2d(3, 64, kernel_size=(3, 3), stride=(1, 1), padding=(1, 1))\n",
      "    (1): ReLU(inplace=True)\n",
      "    (2): Conv2d(64, 64, kernel_size=(3, 3), stride=(1, 1), padding=(1, 1))\n",
      "    (3): ReLU(inplace=True)\n",
      "    (4): MaxPool2d(kernel_size=2, stride=2, padding=0, dilation=1, ceil_mode=False)\n",
      "    (5): Conv2d(64, 128, kernel_size=(3, 3), stride=(1, 1), padding=(1, 1))\n",
      "    (6): ReLU(inplace=True)\n",
      "    (7): Conv2d(128, 128, kernel_size=(3, 3), stride=(1, 1), padding=(1, 1))\n",
      "    (8): ReLU(inplace=True)\n",
      "    (9): MaxPool2d(kernel_size=2, stride=2, padding=0, dilation=1, ceil_mode=False)\n",
      "    (10): Conv2d(128, 256, kernel_size=(3, 3), stride=(1, 1), padding=(1, 1))\n",
      "    (11): ReLU(inplace=True)\n",
      "    (12): Conv2d(256, 256, kernel_size=(3, 3), stride=(1, 1), padding=(1, 1))\n",
      "    (13): ReLU(inplace=True)\n",
      "    (14): Conv2d(256, 256, kernel_size=(3, 3), stride=(1, 1), padding=(1, 1))\n",
      "    (15): ReLU(inplace=True)\n",
      "    (16): Conv2d(256, 256, kernel_size=(3, 3), stride=(1, 1), padding=(1, 1))\n",
      "    (17): ReLU(inplace=True)\n",
      "    (18): MaxPool2d(kernel_size=2, stride=2, padding=0, dilation=1, ceil_mode=False)\n",
      "    (19): Conv2d(256, 512, kernel_size=(3, 3), stride=(1, 1), padding=(1, 1))\n",
      "    (20): ReLU(inplace=True)\n",
      "    (21): Conv2d(512, 512, kernel_size=(3, 3), stride=(1, 1), padding=(1, 1))\n",
      "    (22): ReLU(inplace=True)\n",
      "    (23): Conv2d(512, 512, kernel_size=(3, 3), stride=(1, 1), padding=(1, 1))\n",
      "    (24): ReLU(inplace=True)\n",
      "    (25): Conv2d(512, 512, kernel_size=(3, 3), stride=(1, 1), padding=(1, 1))\n",
      "    (26): ReLU(inplace=True)\n",
      "    (27): MaxPool2d(kernel_size=2, stride=2, padding=0, dilation=1, ceil_mode=False)\n",
      "    (28): Conv2d(512, 512, kernel_size=(3, 3), stride=(1, 1), padding=(1, 1))\n",
      "    (29): ReLU(inplace=True)\n",
      "    (30): Conv2d(512, 512, kernel_size=(3, 3), stride=(1, 1), padding=(1, 1))\n",
      "    (31): ReLU(inplace=True)\n",
      "    (32): Conv2d(512, 512, kernel_size=(3, 3), stride=(1, 1), padding=(1, 1))\n",
      "    (33): ReLU(inplace=True)\n",
      "    (34): Conv2d(512, 512, kernel_size=(3, 3), stride=(1, 1), padding=(1, 1))\n",
      "    (35): ReLU(inplace=True)\n",
      "    (36): MaxPool2d(kernel_size=2, stride=2, padding=0, dilation=1, ceil_mode=False)\n",
      "  )\n",
      "  (avgpool): AdaptiveAvgPool2d(output_size=(7, 7))\n",
      "  (classifier): Sequential(\n",
      "    (0): Linear(in_features=25088, out_features=4096, bias=True)\n",
      "    (1): ReLU(inplace=True)\n",
      "    (2): Dropout(p=0.5, inplace=False)\n",
      "    (3): Linear(in_features=4096, out_features=4096, bias=True)\n",
      "    (4): ReLU(inplace=True)\n",
      "    (5): Dropout(p=0.5, inplace=False)\n",
      "    (6): Linear(in_features=4096, out_features=10, bias=True)\n",
      "  )\n",
      ")\n",
      "ResNet(\n",
      "  (conv1): Conv2d(3, 64, kernel_size=(7, 7), stride=(2, 2), padding=(3, 3), bias=False)\n",
      "  (bn1): BatchNorm2d(64, eps=1e-05, momentum=0.1, affine=True, track_running_stats=True)\n",
      "  (relu): ReLU(inplace=True)\n",
      "  (maxpool): MaxPool2d(kernel_size=3, stride=2, padding=1, dilation=1, ceil_mode=False)\n",
      "  (layer1): Sequential(\n",
      "    (0): BasicBlock(\n",
      "      (conv1): Conv2d(64, 64, kernel_size=(3, 3), stride=(1, 1), padding=(1, 1), bias=False)\n",
      "      (bn1): BatchNorm2d(64, eps=1e-05, momentum=0.1, affine=True, track_running_stats=True)\n",
      "      (relu): ReLU(inplace=True)\n",
      "      (conv2): Conv2d(64, 64, kernel_size=(3, 3), stride=(1, 1), padding=(1, 1), bias=False)\n",
      "      (bn2): BatchNorm2d(64, eps=1e-05, momentum=0.1, affine=True, track_running_stats=True)\n",
      "    )\n",
      "    (1): BasicBlock(\n",
      "      (conv1): Conv2d(64, 64, kernel_size=(3, 3), stride=(1, 1), padding=(1, 1), bias=False)\n",
      "      (bn1): BatchNorm2d(64, eps=1e-05, momentum=0.1, affine=True, track_running_stats=True)\n",
      "      (relu): ReLU(inplace=True)\n",
      "      (conv2): Conv2d(64, 64, kernel_size=(3, 3), stride=(1, 1), padding=(1, 1), bias=False)\n",
      "      (bn2): BatchNorm2d(64, eps=1e-05, momentum=0.1, affine=True, track_running_stats=True)\n",
      "    )\n",
      "  )\n",
      "  (layer2): Sequential(\n",
      "    (0): BasicBlock(\n",
      "      (conv1): Conv2d(64, 128, kernel_size=(3, 3), stride=(2, 2), padding=(1, 1), bias=False)\n",
      "      (bn1): BatchNorm2d(128, eps=1e-05, momentum=0.1, affine=True, track_running_stats=True)\n",
      "      (relu): ReLU(inplace=True)\n",
      "      (conv2): Conv2d(128, 128, kernel_size=(3, 3), stride=(1, 1), padding=(1, 1), bias=False)\n",
      "      (bn2): BatchNorm2d(128, eps=1e-05, momentum=0.1, affine=True, track_running_stats=True)\n",
      "      (downsample): Sequential(\n",
      "        (0): Conv2d(64, 128, kernel_size=(1, 1), stride=(2, 2), bias=False)\n",
      "        (1): BatchNorm2d(128, eps=1e-05, momentum=0.1, affine=True, track_running_stats=True)\n",
      "      )\n",
      "    )\n",
      "    (1): BasicBlock(\n",
      "      (conv1): Conv2d(128, 128, kernel_size=(3, 3), stride=(1, 1), padding=(1, 1), bias=False)\n",
      "      (bn1): BatchNorm2d(128, eps=1e-05, momentum=0.1, affine=True, track_running_stats=True)\n",
      "      (relu): ReLU(inplace=True)\n",
      "      (conv2): Conv2d(128, 128, kernel_size=(3, 3), stride=(1, 1), padding=(1, 1), bias=False)\n",
      "      (bn2): BatchNorm2d(128, eps=1e-05, momentum=0.1, affine=True, track_running_stats=True)\n",
      "    )\n",
      "  )\n",
      "  (layer3): Sequential(\n",
      "    (0): BasicBlock(\n",
      "      (conv1): Conv2d(128, 256, kernel_size=(3, 3), stride=(2, 2), padding=(1, 1), bias=False)\n",
      "      (bn1): BatchNorm2d(256, eps=1e-05, momentum=0.1, affine=True, track_running_stats=True)\n",
      "      (relu): ReLU(inplace=True)\n",
      "      (conv2): Conv2d(256, 256, kernel_size=(3, 3), stride=(1, 1), padding=(1, 1), bias=False)\n",
      "      (bn2): BatchNorm2d(256, eps=1e-05, momentum=0.1, affine=True, track_running_stats=True)\n",
      "      (downsample): Sequential(\n",
      "        (0): Conv2d(128, 256, kernel_size=(1, 1), stride=(2, 2), bias=False)\n",
      "        (1): BatchNorm2d(256, eps=1e-05, momentum=0.1, affine=True, track_running_stats=True)\n",
      "      )\n",
      "    )\n",
      "    (1): BasicBlock(\n",
      "      (conv1): Conv2d(256, 256, kernel_size=(3, 3), stride=(1, 1), padding=(1, 1), bias=False)\n",
      "      (bn1): BatchNorm2d(256, eps=1e-05, momentum=0.1, affine=True, track_running_stats=True)\n",
      "      (relu): ReLU(inplace=True)\n",
      "      (conv2): Conv2d(256, 256, kernel_size=(3, 3), stride=(1, 1), padding=(1, 1), bias=False)\n",
      "      (bn2): BatchNorm2d(256, eps=1e-05, momentum=0.1, affine=True, track_running_stats=True)\n",
      "    )\n",
      "  )\n",
      "  (layer4): Sequential(\n",
      "    (0): BasicBlock(\n",
      "      (conv1): Conv2d(256, 512, kernel_size=(3, 3), stride=(2, 2), padding=(1, 1), bias=False)\n",
      "      (bn1): BatchNorm2d(512, eps=1e-05, momentum=0.1, affine=True, track_running_stats=True)\n",
      "      (relu): ReLU(inplace=True)\n",
      "      (conv2): Conv2d(512, 512, kernel_size=(3, 3), stride=(1, 1), padding=(1, 1), bias=False)\n",
      "      (bn2): BatchNorm2d(512, eps=1e-05, momentum=0.1, affine=True, track_running_stats=True)\n",
      "      (downsample): Sequential(\n",
      "        (0): Conv2d(256, 512, kernel_size=(1, 1), stride=(2, 2), bias=False)\n",
      "        (1): BatchNorm2d(512, eps=1e-05, momentum=0.1, affine=True, track_running_stats=True)\n",
      "      )\n",
      "    )\n",
      "    (1): BasicBlock(\n",
      "      (conv1): Conv2d(512, 512, kernel_size=(3, 3), stride=(1, 1), padding=(1, 1), bias=False)\n",
      "      (bn1): BatchNorm2d(512, eps=1e-05, momentum=0.1, affine=True, track_running_stats=True)\n",
      "      (relu): ReLU(inplace=True)\n",
      "      (conv2): Conv2d(512, 512, kernel_size=(3, 3), stride=(1, 1), padding=(1, 1), bias=False)\n",
      "      (bn2): BatchNorm2d(512, eps=1e-05, momentum=0.1, affine=True, track_running_stats=True)\n",
      "    )\n",
      "  )\n",
      "  (avgpool): AdaptiveAvgPool2d(output_size=(1, 1))\n",
      "  (fc): Linear(in_features=512, out_features=10, bias=True)\n",
      ")\n"
     ]
    }
   ],
   "source": [
    "# Define models using pre-trained weights and transforms\n",
    "vgg19_model = vgg19(weights=vgg_weights, progress=True)\n",
    "resnet18_model = resnet18(weights=ResNet18_Weights, progress=True)\n",
    "vgg19_model.classifier[6] = nn.Linear(4096, 10)\n",
    "resnet18_model.fc = nn.Linear(512, 10)\n",
    "\n",
    "print(vgg19_model)\n",
    "print(resnet18_model)\n"
   ]
  },
  {
   "cell_type": "code",
   "execution_count": 34,
   "metadata": {},
   "outputs": [
    {
     "name": "stderr",
     "output_type": "stream",
     "text": [
      "Error: command buffer exited with error status.\n",
      "\tThe Metal Performance Shaders operations encoded on it may not have completed.\n",
      "\tError: \n",
      "\t(null)\n",
      "\tInternal Error (0000000e:Internal Error)\n",
      "\t<AGXG13XFamilyCommandBuffer: 0x14df17300>\n",
      "    label = <none> \n",
      "    device = <AGXG13XDevice: 0x11f5cee00>\n",
      "        name = Apple M1 Pro \n",
      "    commandQueue = <AGXG13XFamilyCommandQueue: 0x14fdc2600>\n",
      "        label = <none> \n",
      "        device = <AGXG13XDevice: 0x11f5cee00>\n",
      "            name = Apple M1 Pro \n",
      "    retainedReferences = 1\n"
     ]
    },
    {
     "name": "stdout",
     "output_type": "stream",
     "text": [
      "Epoch 1\n",
      "--------------------------------------\n",
      "Train loss = 0.4804\n",
      "Validation loss = 0.2456\n",
      "Training Acc = 0.8352\n",
      "Validation Acc = 0.9179\n",
      "--------------------------------------\n"
     ]
    },
    {
     "name": "stderr",
     "output_type": "stream",
     "text": [
      "Error: command buffer exited with error status.\n",
      "\tThe Metal Performance Shaders operations encoded on it may not have completed.\n",
      "\tError: \n",
      "\t(null)\n",
      "\tDiscarded (victim of GPU error/recovery) (00000005:kIOGPUCommandBufferCallbackErrorInnocentVictim)\n",
      "\t<AGXG13XFamilyCommandBuffer: 0x2b9219480>\n",
      "    label = <none> \n",
      "    device = <AGXG13XDevice: 0x11f5cee00>\n",
      "        name = Apple M1 Pro \n",
      "    commandQueue = <AGXG13XFamilyCommandQueue: 0x14fdc2600>\n",
      "        label = <none> \n",
      "        device = <AGXG13XDevice: 0x11f5cee00>\n",
      "            name = Apple M1 Pro \n",
      "    retainedReferences = 1\n",
      "Error: command buffer exited with error status.\n",
      "\tThe Metal Performance Shaders operations encoded on it may not have completed.\n",
      "\tError: \n",
      "\t(null)\n",
      "\tCaused GPU Hang Error (00000003:kIOGPUCommandBufferCallbackErrorHang)\n",
      "\t<AGXG13XFamilyCommandBuffer: 0x2b92a87e0>\n",
      "    label = <none> \n",
      "    device = <AGXG13XDevice: 0x11f5cee00>\n",
      "        name = Apple M1 Pro \n",
      "    commandQueue = <AGXG13XFamilyCommandQueue: 0x14fdc2600>\n",
      "        label = <none> \n",
      "        device = <AGXG13XDevice: 0x11f5cee00>\n",
      "            name = Apple M1 Pro \n",
      "    retainedReferences = 1\n"
     ]
    },
    {
     "name": "stdout",
     "output_type": "stream",
     "text": [
      "Epoch 2\n",
      "--------------------------------------\n",
      "Train loss = 0.2386\n",
      "Validation loss = 0.216\n",
      "Training Acc = 0.9179\n",
      "Validation Acc = 0.9247\n",
      "--------------------------------------\n"
     ]
    },
    {
     "name": "stderr",
     "output_type": "stream",
     "text": [
      "Error: command buffer exited with error status.\n",
      "\tThe Metal Performance Shaders operations encoded on it may not have completed.\n",
      "\tError: \n",
      "\t(null)\n",
      "\tInternal Error (0000000e:Internal Error)\n",
      "\t<AGXG13XFamilyCommandBuffer: 0x2c71c6ea0>\n",
      "    label = <none> \n",
      "    device = <AGXG13XDevice: 0x11f5cee00>\n",
      "        name = Apple M1 Pro \n",
      "    commandQueue = <AGXG13XFamilyCommandQueue: 0x14fdc2600>\n",
      "        label = <none> \n",
      "        device = <AGXG13XDevice: 0x11f5cee00>\n",
      "            name = Apple M1 Pro \n",
      "    retainedReferences = 1\n"
     ]
    },
    {
     "name": "stdout",
     "output_type": "stream",
     "text": [
      "Epoch 3\n",
      "--------------------------------------\n",
      "Train loss = 0.1574\n",
      "Validation loss = 0.0891\n",
      "Training Acc = 0.9451\n",
      "Validation Acc = 0.9727\n",
      "--------------------------------------\n"
     ]
    }
   ],
   "source": [
    "vgg19_model = vgg19_model.to(device)\n",
    "model_information_vgg = perform_training(\n",
    "    vgg19_model, torch.optim.SGD(vgg19_model.parameters(), lr=0.01), 3, full_train_load_vgg, val_load_vgg, early_stopping=True, patience=4)\n",
    "trained_model_vgg = model_information_vgg[0]\n",
    "training_losses_vgg = model_information_vgg[1]\n",
    "validation_losses_vgg = model_information_vgg[2]\n",
    "training_accuracies_vgg = model_information_vgg[3]\n",
    "validation_accuracies_vgg = model_information_vgg[4]\n"
   ]
  },
  {
   "cell_type": "code",
   "execution_count": 37,
   "metadata": {},
   "outputs": [
    {
     "name": "stdout",
     "output_type": "stream",
     "text": [
      "Epoch 1\n",
      "--------------------------------------\n",
      "Train loss = 0.4229\n",
      "Validation loss = 0.1297\n",
      "Training Acc = 0.8601\n",
      "Validation Acc = 0.9634\n",
      "--------------------------------------\n",
      "Epoch 2\n",
      "--------------------------------------\n",
      "Train loss = 0.1713\n",
      "Validation loss = 0.069\n",
      "Training Acc = 0.9425\n",
      "Validation Acc = 0.9808\n",
      "--------------------------------------\n",
      "Epoch 3\n",
      "--------------------------------------\n",
      "Train loss = 0.0948\n",
      "Validation loss = 0.0274\n",
      "Training Acc = 0.969\n",
      "Validation Acc = 0.9942\n",
      "--------------------------------------\n"
     ]
    }
   ],
   "source": [
    "resnet18_model = resnet18_model.to(device)\n",
    "model_information_resnet = perform_training(\n",
    "    resnet18_model, torch.optim.SGD(resnet18_model.parameters(), lr=0.01), 3, full_train_load_resnet, val_load_resnet, early_stopping=True, patience=4)\n",
    "trained_model_resnet = model_information_resnet[0]\n",
    "training_losses_resnet = model_information_resnet[1]\n",
    "validation_losses_resnet = model_information_resnet[2]\n",
    "training_accuracies_resnet = model_information_resnet[3]\n",
    "validation_accuracies_resnet = model_information_resnet[4]\n"
   ]
  },
  {
   "cell_type": "code",
   "execution_count": 38,
   "metadata": {},
   "outputs": [
    {
     "data": {
      "image/png": "[encoded data removed]",
      "text/plain": [
       "<Figure size 640x480 with 1 Axes>"
      ]
     },
     "metadata": {},
     "output_type": "display_data"
    },
    {
     "data": {
      "image/png": "[encoded data removed]",
      "text/plain": [
       "<Figure size 640x480 with 1 Axes>"
      ]
     },
     "metadata": {},
     "output_type": "display_data"
    }
   ],
   "source": [
    "# Plot graph\n",
    "show_plot(training_losses_vgg, validation_losses_vgg,\n",
    "          training_accuracies_vgg, validation_accuracies_vgg)\n",
    "# Plot graph\n",
    "show_plot(training_losses_resnet, validation_losses_resnet,\n",
    "          training_accuracies_resnet, validation_accuracies_resnet)"
   ]
  },
  {
   "cell_type": "markdown",
   "metadata": {},
   "source": [
    "### Testing VGG19 and ResNet18 on the test set."
   ]
  },
  {
   "cell_type": "code",
   "execution_count": 39,
   "metadata": {},
   "outputs": [],
   "source": [
    "# Test VGG19\n",
    "test_loss_vgg, test_accuracy_vgg = test(0, test_load_vgg, vgg19_model)\n",
    "\n",
    "# Test ResNet18\n",
    "test_loss_resnet, test_accuracy_resnet = test(0, test_load_resnet, resnet18_model)\n"
   ]
  },
  {
   "cell_type": "code",
   "execution_count": 43,
   "metadata": {},
   "outputs": [
    {
     "name": "stdout",
     "output_type": "stream",
     "text": [
      "Test accuracy for VGG19 = 0.9177\n",
      "Test loss for VGG19 = 0.23798906557952254\n",
      "Test accuracy for ResNet18 = 0.9406\n",
      "Test loss for ResNet18 = 0.17491782848952345\n"
     ]
    }
   ],
   "source": [
    "print(\"Test accuracy for VGG19 =\", test_accuracy_vgg)\n",
    "print(\"Test loss for VGG19 =\", test_loss_vgg)\n",
    "print(\"Test accuracy for ResNet18 =\", test_accuracy_resnet)\n",
    "print(\"Test loss for ResNet18 =\", test_loss_resnet)"
   ]
  },
  {
   "cell_type": "code",
   "execution_count": null,
   "metadata": {},
   "outputs": [],
   "source": []
  }
 ],
 "metadata": {
  "kernelspec": {
   "display_name": "Python 3.10.6 ('base')",
   "language": "python",
   "name": "python3"
  },
  "language_info": {
   "codemirror_mode": {
    "name": "ipython",
    "version": 3
   },
   "file_extension": ".py",
   "mimetype": "text/x-python",
   "name": "python",
   "nbconvert_exporter": "python",
   "pygments_lexer": "ipython3",
   "version": "3.10.6"
  },
  "orig_nbformat": 4,
  "vscode": {
   "interpreter": {
    "hash": "bfa443d882274bd7e230b8c1b91ec59194eea76f8ca5525179891f6270ad77a9"
   }
  }
 },
 "nbformat": 4,
 "nbformat_minor": 2
}
